{
 "cells": [
  {
   "cell_type": "markdown",
   "metadata": {},
   "source": [
    "# 五、ndarray的矩阵操作"
   ]
  },
  {
   "cell_type": "markdown",
   "metadata": {},
   "source": [
    "## 加减乘除"
   ]
  },
  {
   "cell_type": "code",
   "execution_count": 1,
   "metadata": {},
   "outputs": [],
   "source": [
    "import numpy as np\n",
    "import random"
   ]
  },
  {
   "cell_type": "code",
   "execution_count": 3,
   "metadata": {},
   "outputs": [
    {
     "data": {
      "text/plain": [
       "array([[83,  1,  6, 85, 44, 29],\n",
       "       [87, 81, 52, 93, 97, 29],\n",
       "       [75, 88, 58, 99, 77, 64],\n",
       "       [45, 76, 36, 83, 95, 91],\n",
       "       [ 2, 21, 36, 71, 53, 18],\n",
       "       [14, 25, 28, 22, 48, 56]])"
      ]
     },
     "execution_count": 3,
     "metadata": {},
     "output_type": "execute_result"
    }
   ],
   "source": [
    "n = np.random.randint(0,100,size=(6,6))\n",
    "n"
   ]
  },
  {
   "cell_type": "code",
   "execution_count": 7,
   "metadata": {},
   "outputs": [],
   "source": [
    "n2 = n+1#每个元素和1相加"
   ]
  },
  {
   "cell_type": "code",
   "execution_count": 9,
   "metadata": {},
   "outputs": [
    {
     "data": {
      "text/plain": [
       "array([[420,  10,  35, 430, 225, 150],\n",
       "       [440, 410, 265, 470, 490, 150],\n",
       "       [380, 445, 295, 500, 390, 325],\n",
       "       [230, 385, 185, 420, 480, 460],\n",
       "       [ 15, 110, 185, 360, 270,  95],\n",
       "       [ 75, 130, 145, 115, 245, 285]])"
      ]
     },
     "execution_count": 9,
     "metadata": {},
     "output_type": "execute_result"
    }
   ],
   "source": [
    "5*n2"
   ]
  },
  {
   "cell_type": "code",
   "execution_count": 10,
   "metadata": {},
   "outputs": [
    {
     "data": {
      "text/plain": [
       "array([[11993,  9049,  6602, 18807, 16258, 13219],\n",
       "       [23392, 21493, 15841, 35759, 31496, 20472],\n",
       "       [24197, 23509, 16979, 35854, 33321, 22879],\n",
       "       [18672, 20373, 15692, 30519, 29838, 20598],\n",
       "       [ 8447, 12031,  8361, 15940, 15516, 11595],\n",
       "       [ 7500,  8776,  7289, 12946, 12712,  9118]])"
      ]
     },
     "execution_count": 10,
     "metadata": {},
     "output_type": "execute_result"
    }
   ],
   "source": [
    "np.dot(n,n2)"
   ]
  },
  {
   "cell_type": "markdown",
   "metadata": {},
   "source": [
    "# 六、ndarray的排序"
   ]
  },
  {
   "cell_type": "code",
   "execution_count": 14,
   "metadata": {},
   "outputs": [],
   "source": [
    "#排序只对1维数组有意义\n",
    "def select_sort(arr):\n",
    "    for i in range(0,len(arr)-1):\n",
    "        index = np.argmin(arr[i:])+i\n",
    "        if arr[i] > arr[index]:\n",
    "            arr[i],arr[index] = arr[index],arr[i]\n",
    "    return arr"
   ]
  },
  {
   "cell_type": "code",
   "execution_count": 15,
   "metadata": {},
   "outputs": [
    {
     "data": {
      "text/plain": [
       "array([  23,   78,  123,  234,  545,  678, 2132])"
      ]
     },
     "execution_count": 15,
     "metadata": {},
     "output_type": "execute_result"
    }
   ],
   "source": [
    "n = np.array([234,23,545,678,2132,78,123])\n",
    "select_sort(n)"
   ]
  },
  {
   "cell_type": "code",
   "execution_count": null,
   "metadata": {},
   "outputs": [],
   "source": []
  }
 ],
 "metadata": {
  "kernelspec": {
   "display_name": "Python 3",
   "language": "python",
   "name": "python3"
  },
  "language_info": {
   "codemirror_mode": {
    "name": "ipython",
    "version": 3
   },
   "file_extension": ".py",
   "mimetype": "text/x-python",
   "name": "python",
   "nbconvert_exporter": "python",
   "pygments_lexer": "ipython3",
   "version": "3.8.5"
  }
 },
 "nbformat": 4,
 "nbformat_minor": 4
}
